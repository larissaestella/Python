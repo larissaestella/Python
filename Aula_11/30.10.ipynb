{
 "cells": [
  {
   "cell_type": "code",
   "execution_count": 6,
   "metadata": {},
   "outputs": [],
   "source": [
    "def funcao(A, B):\n",
    "    soma = A + B\n",
    "    return soma"
   ]
  },
  {
   "cell_type": "code",
   "execution_count": 8,
   "metadata": {},
   "outputs": [
    {
     "data": {
      "text/plain": [
       "10"
      ]
     },
     "execution_count": 8,
     "metadata": {},
     "output_type": "execute_result"
    }
   ],
   "source": [
    "funcao(4, 6)"
   ]
  },
  {
   "cell_type": "code",
   "execution_count": 10,
   "metadata": {},
   "outputs": [
    {
     "data": {
      "text/plain": [
       "25.0"
      ]
     },
     "execution_count": 10,
     "metadata": {},
     "output_type": "execute_result"
    }
   ],
   "source": [
    "# função: area_do_quadrado\n",
    "# parametros: lado\n",
    "# estrutura da função: area = lado ** 2\n",
    "# return: area\n",
    "# input usuário: lado\n",
    "# chamar função: area_do_quadrado(lado)\n",
    "\n",
    "def area_do_quadrado(lado):\n",
    "    area = lado ** 2\n",
    "    return area\n",
    "\n",
    "lado = float(input(\"Insira o valor do lado do quadrado\"))\n",
    "\n",
    "area_do_quadrado(lado)\n"
   ]
  },
  {
   "cell_type": "code",
   "execution_count": 18,
   "metadata": {},
   "outputs": [
    {
     "name": "stdout",
     "output_type": "stream",
     "text": [
      "True\n",
      "False\n",
      "True\n"
     ]
    }
   ],
   "source": [
    "# função para retornar a palavra par ou ímpar\n",
    "\n",
    "def par(x):\n",
    "    return x%2 == 0\n",
    "\n",
    "print(par(2))\n",
    "print(par(3))\n",
    "print(par(10))"
   ]
  },
  {
   "cell_type": "code",
   "execution_count": 21,
   "metadata": {},
   "outputs": [],
   "source": [
    "# \n",
    "\n",
    "def soma(a, b, imprime=False):\n",
    "    s = a + b\n",
    "    if imprime:\n",
    "        print(s)\n",
    "    return s\n"
   ]
  },
  {
   "cell_type": "code",
   "execution_count": 27,
   "metadata": {},
   "outputs": [
    {
     "data": {
      "text/plain": [
       "8"
      ]
     },
     "execution_count": 27,
     "metadata": {},
     "output_type": "execute_result"
    }
   ],
   "source": [
    "soma(2, 6, False)"
   ]
  },
  {
   "cell_type": "code",
   "execution_count": 29,
   "metadata": {},
   "outputs": [
    {
     "name": "stdout",
     "output_type": "stream",
     "text": [
      "Olá mundo!\n",
      "Python é legal!\n",
      "Python é legal!\n",
      "Python é legal!\n"
     ]
    }
   ],
   "source": [
    "# função retângulo com parâmetros obrigatórios e opcionais\n",
    "\n",
    "def exibir_mensagem(mensagem, vezes=1):\n",
    "    for i in range(vezes):\n",
    "        print(mensagem)\n",
    "\n",
    "exibir_mensagem(\"Olá mundo!\")\n",
    "exibir_mensagem(\"Python é legal!\", 3)"
   ]
  },
  {
   "cell_type": "code",
   "execution_count": 31,
   "metadata": {},
   "outputs": [
    {
     "name": "stdout",
     "output_type": "stream",
     "text": [
      "par\n",
      "ímpar\n"
     ]
    }
   ],
   "source": [
    "# função que retorna V ou F, dependendo se o número é par ou ímpar\n",
    "\n",
    "def par(x):\n",
    "    return x % 2 == 0\n",
    "\n",
    "def par_ou_impar(x):\n",
    "    if par(x):\n",
    "        return \"par\"\n",
    "    else:\n",
    "        return \"ímpar\"\n",
    "\n",
    "print(par_ou_impar(4))\n",
    "print(par_ou_impar(5))"
   ]
  },
  {
   "cell_type": "code",
   "execution_count": 40,
   "metadata": {},
   "outputs": [
    {
     "name": "stdout",
     "output_type": "stream",
     "text": [
      "0\n",
      "2\n"
     ]
    }
   ],
   "source": [
    "def pesquise(lista, valor):\n",
    "    for x, i in enumerate(lista):\n",
    "        if i == valor:\n",
    "            return x\n",
    "    return None\n",
    "\n",
    "L = [10, 20, 25, 30]\n",
    "\n",
    "print(pesquise(L, 10))\n",
    "print(pesquise(L, 25))"
   ]
  },
  {
   "cell_type": "code",
   "execution_count": 48,
   "metadata": {},
   "outputs": [
    {
     "name": "stdout",
     "output_type": "stream",
     "text": [
      "21.25\n"
     ]
    }
   ],
   "source": [
    "# calculando a média dos valores de uma lista\n",
    "\n",
    "L = [10, 20, 25, 30]\n",
    "\n",
    "def soma(L):\n",
    "    total = 0\n",
    "    for i in L:\n",
    "        total += i\n",
    "    return total\n",
    "\n",
    "def media(L):\n",
    "    return soma(L)/len(L)\n",
    "\n",
    "print(media(L))"
   ]
  },
  {
   "cell_type": "code",
   "execution_count": 62,
   "metadata": {},
   "outputs": [
    {
     "name": "stdout",
     "output_type": "stream",
     "text": [
      "30.0\n"
     ]
    }
   ],
   "source": [
    "# 1. Calcular a média da lista abaixo usando a função def\n",
    "\n",
    "valores = [10, 15, 20, 25, 30, 35, 40 , 45, 50]\n",
    "\n",
    "def soma(valores):\n",
    "    total = 0\n",
    "    for i in valores:\n",
    "        total += i\n",
    "    return total\n",
    "\n",
    "# print(soma(valores))\n",
    "\n",
    "def media(valores):\n",
    "    return soma(valores)/len(valores)\n",
    "\n",
    "print(media(valores))\n"
   ]
  },
  {
   "cell_type": "code",
   "execution_count": 27,
   "metadata": {},
   "outputs": [
    {
     "name": "stdout",
     "output_type": "stream",
     "text": [
      "A força resultante é de 8.0 Newton(N)\n"
     ]
    }
   ],
   "source": [
    "# 2. Crie uma função para calcular a força em Newton de acordo com os valores de entrada da massa e acelaração inseridos pelo usuário\n",
    "\n",
    "massa = float(input(\"Digite qual o valor da massa\"))\n",
    "a = float(input(\"Digite o valor da aceleração\"))\n",
    "\n",
    "def funcao(massa, a):\n",
    "    forca = massa * a\n",
    "    return forca\n",
    "\n",
    "print('A força resultante é de', funcao(massa, a), 'Newton(N)')\n",
    "    "
   ]
  },
  {
   "cell_type": "code",
   "execution_count": 29,
   "metadata": {},
   "outputs": [
    {
     "name": "stdout",
     "output_type": "stream",
     "text": [
      "A área do triângulo é de 10.0\n"
     ]
    }
   ],
   "source": [
    "# 3. Escreva uma função que receba a base e a altura de um triângulo e retorne sua área (A=(base*altura)/2)\n",
    "\n",
    "base = float(input(\"Digite o valor da base\"))\n",
    "altura = float(input(\"Digite o valor da altura\"))\n",
    "\n",
    "\n",
    "def triangulo(base, altura):\n",
    "    area = (base * altura)/2\n",
    "    return area\n",
    "\n",
    "print('A área do triângulo é de', triangulo(base, altura))\n",
    "#print(triangulo(10, 2))"
   ]
  },
  {
   "cell_type": "code",
   "execution_count": 30,
   "metadata": {},
   "outputs": [
    {
     "name": "stdout",
     "output_type": "stream",
     "text": [
      "O volume da caixa é de 30 m³\n"
     ]
    }
   ],
   "source": [
    "# 4. Crie uma função para calcular o volume de uma caixa com os valores de largura, altura e comprimento que devem ser inseridos pelo usuário\n",
    "\n",
    "largura = int(input(\"Digite o valor do largura\"))\n",
    "altura = int(input(\"Digite o valor da altura\"))\n",
    "comprimento = int(input(\"Digite o valor do comprimento\"))\n",
    "\n",
    "def volume(largura, altura, comprimento):\n",
    "    V = (largura * altura * comprimento)\n",
    "    return V\n",
    "\n",
    "print('O volume da caixa é de', volume(largura, altura, comprimento), 'm³')\n"
   ]
  },
  {
   "cell_type": "code",
   "execution_count": 31,
   "metadata": {},
   "outputs": [
    {
     "name": "stdout",
     "output_type": "stream",
     "text": [
      "A área da sala é de 16 m²\n"
     ]
    }
   ],
   "source": [
    "# 5. Crie uma função para calcular a área de uma sala. O usuário deve inserir as dimensões em metros e calcular a área em metros².\n",
    "\n",
    "largura = int(input(\"Digite o valor do largura\"))\n",
    "comprimento = int(input(\"Digite o valor do comprimento\"))\n",
    "\n",
    "def dimensoes(largura, comprimento):\n",
    "    area_sala = largura * comprimento\n",
    "    return area_sala\n",
    "\n",
    "print('A área da sala é de', dimensoes(largura, comprimento), 'm²')\n"
   ]
  },
  {
   "cell_type": "code",
   "execution_count": null,
   "metadata": {},
   "outputs": [],
   "source": [
    "medias = []\n",
    "\n",
    "def media_movel(lista, janela):\n",
    "    for i in range(len(lista) - janela + 1):\n",
    "        sublista = lista[i:i + janela]\n",
    "\n"
   ]
  }
 ],
 "metadata": {
  "kernelspec": {
   "display_name": "Python 3",
   "language": "python",
   "name": "python3"
  },
  "language_info": {
   "codemirror_mode": {
    "name": "ipython",
    "version": 3
   },
   "file_extension": ".py",
   "mimetype": "text/x-python",
   "name": "python",
   "nbconvert_exporter": "python",
   "pygments_lexer": "ipython3",
   "version": "3.11.4"
  },
  "orig_nbformat": 4
 },
 "nbformat": 4,
 "nbformat_minor": 2
}
