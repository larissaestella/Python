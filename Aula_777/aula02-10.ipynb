{
 "cells": [
  {
   "cell_type": "code",
   "execution_count": 2,
   "metadata": {},
   "outputs": [
    {
     "name": "stdout",
     "output_type": "stream",
     "text": [
      "[1, 2, 3, 4, 5, 6]\n"
     ]
    }
   ],
   "source": [
    "#Exemplo 01\n",
    "\n",
    "lista1 = [1, 2, 3]\n",
    "lista2 = [4, 5, 6]\n",
    "\n",
    "soma = lista1 + lista2\n",
    "print(soma)\n"
   ]
  },
  {
   "cell_type": "code",
   "execution_count": 4,
   "metadata": {},
   "outputs": [
    {
     "name": "stdout",
     "output_type": "stream",
     "text": [
      "[1, 2, 3, 4, 5, 6, 7, 8, 9]\n"
     ]
    }
   ],
   "source": [
    "lista1 = [1, 2, 3]\n",
    "lista2 = [4, 5, 6]\n",
    "lista3 = [7, 8, 9]\n",
    "\n",
    "soma = lista1 + lista2 +  lista3\n",
    "print(soma)"
   ]
  },
  {
   "cell_type": "code",
   "execution_count": 9,
   "metadata": {},
   "outputs": [
    {
     "name": "stdout",
     "output_type": "stream",
     "text": [
      "[5, 7, 9]\n"
     ]
    }
   ],
   "source": [
    "#Exemplo 02\n",
    "\n",
    "lista1 = [1, 2, 3]\n",
    "lista2 = [4, 5, 6]\n",
    "\n",
    "combine = [a + b for a, b in zip(lista1, lista2)]\n",
    "print(combine)\n",
    "\n",
    "#a + b -> somar valores da lista\n",
    "#for -> percorre o que tem em a e b \n",
    "#zip -> permite combinar os valores da lista"
   ]
  },
  {
   "cell_type": "code",
   "execution_count": 11,
   "metadata": {},
   "outputs": [
    {
     "name": "stdout",
     "output_type": "stream",
     "text": [
      "{('Honda', 134), ('Ferrari', 180), ('Mitsubishi', 120), ('BMW', 300)}\n"
     ]
    }
   ],
   "source": [
    "#Exemplo 03\n",
    "\n",
    "carro = ['Mitsubishi', 'Honda', 'Ferrari', 'BMW']\n",
    "potencia = [120, 134, 180, 300]\n",
    "\n",
    "combine = set(zip(carro, potencia))\n",
    "print(combine)"
   ]
  },
  {
   "cell_type": "code",
   "execution_count": 19,
   "metadata": {},
   "outputs": [
    {
     "name": "stdout",
     "output_type": "stream",
     "text": [
      "0 Messi 36\n",
      "1 Neymar 51\n",
      "2 CR7 47\n"
     ]
    }
   ],
   "source": [
    "#Exemplo 04\n",
    "\n",
    "nomes = ['Messi', 'Neymar', 'CR7']\n",
    "idade = [36, 51, 47]\n",
    "\n",
    "for i, (nomes, idade) in enumerate(zip(nomes, idade)):\n",
    "    print(i, nomes, idade)"
   ]
  },
  {
   "cell_type": "code",
   "execution_count": 23,
   "metadata": {},
   "outputs": [
    {
     "name": "stdout",
     "output_type": "stream",
     "text": [
      "[(1, 'a', 'peixe'), (2, 'b', 'pássaro'), (3, 'c', 'gato')]\n"
     ]
    }
   ],
   "source": [
    "#Exemplo 05\n",
    "\n",
    "lista1 = [1, 2, 3]\n",
    "lista2 = ['a', 'b', 'c']\n",
    "lista3 = ['peixe', 'pássaro', 'gato']\n",
    "\n",
    "combine = list(zip(lista1, lista2, lista3))\n",
    "print(combine)"
   ]
  },
  {
   "cell_type": "code",
   "execution_count": 30,
   "metadata": {},
   "outputs": [
    {
     "name": "stdout",
     "output_type": "stream",
     "text": [
      "[(2, 'b'), (4, 'd')]\n"
     ]
    }
   ],
   "source": [
    "#Exemplo 06\n",
    "\n",
    "lista1 = [1, 2, 3, 4, 5]\n",
    "lista2 = ['a', 'b', 'c', 'd', 'e']\n",
    "\n",
    "combine = [(a,b) for a, b in zip(lista1, lista2) if a%2 == 0]\n",
    "print(combine)"
   ]
  },
  {
   "cell_type": "code",
   "execution_count": 33,
   "metadata": {},
   "outputs": [
    {
     "name": "stdout",
     "output_type": "stream",
     "text": [
      "[(3, 'c'), (4, 'd'), (5, 'e')]\n"
     ]
    }
   ],
   "source": [
    "lista1 = [1, 2, 3, 4, 5]\n",
    "lista2 = ['a', 'b', 'c', 'd', 'e']\n",
    "\n",
    "combine = [(a,b) for a, b in zip(lista1, lista2) if a >=3]\n",
    "print(combine)"
   ]
  },
  {
   "cell_type": "code",
   "execution_count": 34,
   "metadata": {},
   "outputs": [],
   "source": [
    "lista1 = [9, 8, 7, 12, 0, 13, 21, 25]\n",
    "lista_pares = []\n",
    "lista_impares = []\n",
    "\n"
   ]
  },
  {
   "cell_type": "code",
   "execution_count": 36,
   "metadata": {},
   "outputs": [
    {
     "name": "stdout",
     "output_type": "stream",
     "text": [
      "[(1, 10), (2, 20), (3, 30), (4, 100), (5, 100)]\n"
     ]
    }
   ],
   "source": [
    "#Exemplo 07\n",
    "\n",
    "lista1 = [1, 2, 3, 4, 5]\n",
    "lista2 = [10, 20, 30]\n",
    "\n",
    "from itertools import zip_longest \n",
    "\n",
    "#zip_longest: preenche lista\n",
    "\n",
    "combine = list(zip_longest(lista1, lista2, fillvalue= 100))\n",
    "print(combine)"
   ]
  },
  {
   "cell_type": "code",
   "execution_count": 1,
   "metadata": {},
   "outputs": [
    {
     "name": "stdout",
     "output_type": "stream",
     "text": [
      "['O preço de banana é 25.0', 'O preço de laranja é 6.0', 'O preço de uva é 6', 'O preço de maça é 12', 'O preço de pera é 12']\n"
     ]
    }
   ],
   "source": [
    "#Exemplo 08\n",
    "\n",
    "preco = [2.50, 1.20, 3, 4, 2, 4.50]\n",
    "quantidades = [10, 5, 2, 3, 6]\n",
    "frutas = ['banana', 'laranja', 'uva', 'maça', 'pera']\n",
    "\n",
    "combine = [(f\"O preço de {f} é {p * q}\") for p, q, f in zip(preco, quantidades, frutas)]\n",
    "print(combine)"
   ]
  },
  {
   "cell_type": "code",
   "execution_count": null,
   "metadata": {},
   "outputs": [],
   "source": []
  }
 ],
 "metadata": {
  "kernelspec": {
   "display_name": "Python 3",
   "language": "python",
   "name": "python3"
  },
  "language_info": {
   "codemirror_mode": {
    "name": "ipython",
    "version": 3
   },
   "file_extension": ".py",
   "mimetype": "text/x-python",
   "name": "python",
   "nbconvert_exporter": "python",
   "pygments_lexer": "ipython3",
   "version": "3.11.4"
  },
  "orig_nbformat": 4
 },
 "nbformat": 4,
 "nbformat_minor": 2
}
